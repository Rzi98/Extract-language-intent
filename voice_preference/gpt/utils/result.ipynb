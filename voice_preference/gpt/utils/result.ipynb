{
 "cells": [
  {
   "cell_type": "code",
   "execution_count": 1,
   "metadata": {},
   "outputs": [
    {
     "data": {
      "text/html": [
       "<div>\n",
       "<style scoped>\n",
       "    .dataframe tbody tr th:only-of-type {\n",
       "        vertical-align: middle;\n",
       "    }\n",
       "\n",
       "    .dataframe tbody tr th {\n",
       "        vertical-align: top;\n",
       "    }\n",
       "\n",
       "    .dataframe thead th {\n",
       "        text-align: right;\n",
       "    }\n",
       "</style>\n",
       "<table border=\"1\" class=\"dataframe\">\n",
       "  <thead>\n",
       "    <tr style=\"text-align: right;\">\n",
       "      <th></th>\n",
       "      <th>correction</th>\n",
       "      <th>predicted_features</th>\n",
       "      <th>intensity</th>\n",
       "      <th>types</th>\n",
       "    </tr>\n",
       "  </thead>\n",
       "  <tbody>\n",
       "    <tr>\n",
       "      <th>1</th>\n",
       "      <td>Get close to bottle and turn right then move c...</td>\n",
       "      <td>[[bottle distance decrease, 0.9500000000000001...</td>\n",
       "      <td>[NEUTRAL, NEUTRAL, NEUTRAL, NEUTRAL]</td>\n",
       "      <td>[DISTANCE, DISTANCE, DISTANCE, DISTANCE]</td>\n",
       "    </tr>\n",
       "    <tr>\n",
       "      <th>2</th>\n",
       "      <td>Approach the vase and move left then get neare...</td>\n",
       "      <td>[[vase distance decrease, 0.9], [X-cartesian d...</td>\n",
       "      <td>[NEUTRAL, NEUTRAL, NEUTRAL, NEUTRAL]</td>\n",
       "      <td>[DISTANCE, DISTANCE, DISTANCE, DISTANCE]</td>\n",
       "    </tr>\n",
       "    <tr>\n",
       "      <th>3</th>\n",
       "      <td>Reduce the distance to the box and turn left t...</td>\n",
       "      <td>[[box distance decrease, 0.9500000000000001], ...</td>\n",
       "      <td>[NEUTRAL, NEUTRAL, LOW, NEUTRAL]</td>\n",
       "      <td>[DISTANCE, DISTANCE, DISTANCE, DISTANCE]</td>\n",
       "    </tr>\n",
       "    <tr>\n",
       "      <th>4</th>\n",
       "      <td>Move closer to the cup and go right then keep ...</td>\n",
       "      <td>[[cup distance decrease, 1.0], [X-cartesian in...</td>\n",
       "      <td>[NEUTRAL, NEUTRAL, NEUTRAL, NEUTRAL]</td>\n",
       "      <td>[DISTANCE, DISTANCE, DISTANCE, DISTANCE]</td>\n",
       "    </tr>\n",
       "    <tr>\n",
       "      <th>5</th>\n",
       "      <td>Stay close to the jar and move leftward then d...</td>\n",
       "      <td>[[jar distance decrease, 0.9500000000000001], ...</td>\n",
       "      <td>[NEUTRAL, NEUTRAL, LOW, NEUTRAL]</td>\n",
       "      <td>[DISTANCE, DISTANCE, DISTANCE, DISTANCE]</td>\n",
       "    </tr>\n",
       "  </tbody>\n",
       "</table>\n",
       "</div>"
      ],
      "text/plain": [
       "                                          correction  \\\n",
       "1  Get close to bottle and turn right then move c...   \n",
       "2  Approach the vase and move left then get neare...   \n",
       "3  Reduce the distance to the box and turn left t...   \n",
       "4  Move closer to the cup and go right then keep ...   \n",
       "5  Stay close to the jar and move leftward then d...   \n",
       "\n",
       "                                  predicted_features  \\\n",
       "1  [[bottle distance decrease, 0.9500000000000001...   \n",
       "2  [[vase distance decrease, 0.9], [X-cartesian d...   \n",
       "3  [[box distance decrease, 0.9500000000000001], ...   \n",
       "4  [[cup distance decrease, 1.0], [X-cartesian in...   \n",
       "5  [[jar distance decrease, 0.9500000000000001], ...   \n",
       "\n",
       "                              intensity  \\\n",
       "1  [NEUTRAL, NEUTRAL, NEUTRAL, NEUTRAL]   \n",
       "2  [NEUTRAL, NEUTRAL, NEUTRAL, NEUTRAL]   \n",
       "3      [NEUTRAL, NEUTRAL, LOW, NEUTRAL]   \n",
       "4  [NEUTRAL, NEUTRAL, NEUTRAL, NEUTRAL]   \n",
       "5      [NEUTRAL, NEUTRAL, LOW, NEUTRAL]   \n",
       "\n",
       "                                      types  \n",
       "1  [DISTANCE, DISTANCE, DISTANCE, DISTANCE]  \n",
       "2  [DISTANCE, DISTANCE, DISTANCE, DISTANCE]  \n",
       "3  [DISTANCE, DISTANCE, DISTANCE, DISTANCE]  \n",
       "4  [DISTANCE, DISTANCE, DISTANCE, DISTANCE]  \n",
       "5  [DISTANCE, DISTANCE, DISTANCE, DISTANCE]  "
      ]
     },
     "execution_count": 1,
     "metadata": {},
     "output_type": "execute_result"
    }
   ],
   "source": [
    "import pandas as pd\n",
    "\n",
    "df = pd.read_json('../result/gpt-4-1106-preview/prediction/reformatted.json', orient='index')\n",
    "df.rename(columns={'input': 'correction', 'features': 'predicted_features'}, inplace=True)\n",
    "df.head()"
   ]
  },
  {
   "cell_type": "code",
   "execution_count": 2,
   "metadata": {},
   "outputs": [],
   "source": [
    "markdown_table = df.to_markdown(buf=None, mode='pipe', index=True)\n",
    "with open('../result/gpt-4-1106-preview/result.md', 'w') as file:\n",
    "    file.write(\"## Result - GPT-4-Turbo\\n\\n\")\n",
    "    file.write(markdown_table)"
   ]
  }
 ],
 "metadata": {
  "kernelspec": {
   "display_name": "fyp2",
   "language": "python",
   "name": "python3"
  },
  "language_info": {
   "codemirror_mode": {
    "name": "ipython",
    "version": 3
   },
   "file_extension": ".py",
   "mimetype": "text/x-python",
   "name": "python",
   "nbconvert_exporter": "python",
   "pygments_lexer": "ipython3",
   "version": "3.11.5"
  }
 },
 "nbformat": 4,
 "nbformat_minor": 2
}
